{
 "cells": [
  {
   "metadata": {},
   "cell_type": "code",
   "outputs": [],
   "execution_count": null,
   "source": [
    "# from google.colab import drive\n",
    "# drive.mount('/content/drive')"
   ],
   "id": "4cc0878b7fa210cf"
  },
  {
   "metadata": {},
   "cell_type": "code",
   "outputs": [],
   "execution_count": null,
   "source": [
    "import numpy as np\n",
    "import torch\n",
    "import torch.nn as nn\n",
    "import torchvision.utils as vutils\n",
    "import torchvision.transforms as transforms\n",
    "import torchvision.datasets as datasets\n",
    "from torch.utils.data import DataLoader\n",
    "\n",
    "import matplotlib.pyplot as plt"
   ],
   "id": "initial_id"
  },
  {
   "metadata": {},
   "cell_type": "code",
   "outputs": [],
   "execution_count": null,
   "source": [
    "IMG_SIZE = 64\n",
    "nc = 3\n",
    "nz = 100\n",
    "ngf = 64\n",
    "ndf = 64"
   ],
   "id": "48a327fe05c3e77e"
  },
  {
   "metadata": {},
   "cell_type": "code",
   "outputs": [],
   "execution_count": null,
   "source": [
    "data_root = \"./data\"\n",
    "\n",
    "dataset = datasets.ImageFolder(root=data_root, transform=transforms.Compose([\n",
    "    transforms.Resize(IMG_SIZE),\n",
    "    transforms.CenterCrop(IMG_SIZE),\n",
    "    transforms.ToTensor(),\n",
    "    transforms.Normalize([0.5, 0.5, 0.5], [0.5, 0.5, 0.5])\n",
    "]))\n",
    "\n",
    "BATCH_SIZE = 128\n",
    "dataloader = DataLoader(dataset, batch_size=BATCH_SIZE, shuffle=True)"
   ],
   "id": "4a3b70aee8a69a10"
  },
  {
   "metadata": {
    "ExecuteTime": {
     "end_time": "2025-05-12T12:37:50.370658Z",
     "start_time": "2025-05-12T12:37:50.366459Z"
    }
   },
   "cell_type": "code",
   "source": [
    "def show_images(images, title):\n",
    "    plt.figure(figsize=(8, 8))\n",
    "    plt.axis(\"off\")\n",
    "    plt.title(title)\n",
    "    plt.imshow(\n",
    "        np.transpose(\n",
    "            vutils.make_grid(\n",
    "                images[:64],\n",
    "                padding=2,\n",
    "                normalize=True).cpu(),\n",
    "            (1, 2, 0)\n",
    "        ))\n",
    "    plt.show()\n",
    "\n",
    "\n",
    "sample_batch = next(iter(dataloader))\n",
    "show_images(sample_batch[0], title=\"Training Images\")\n"
   ],
   "id": "10225b6d7cb462d2",
   "outputs": [],
   "execution_count": 1
  },
  {
   "metadata": {},
   "cell_type": "code",
   "outputs": [],
   "execution_count": null,
   "source": [
    "class Generator(nn.Module):\n",
    "    def __init__(self):\n",
    "        super().__init__()\n",
    "        self.main = nn.Sequential(\n",
    "            nn.ConvTranspose2d(nz, ngf*8, 4, 1, 0, bias=False),\n",
    "            nn.BatchNorm2d(ngf*8),\n",
    "            nn.ReLU(True),\n",
    "\n",
    "            nn.ConvTranspose2d(ngf*8, ngf*4, 4, 2, 1, bias=False),\n",
    "            nn.BatchNorm2d(ngf * 4),\n",
    "            nn.ReLU(True),\n",
    "\n",
    "            nn.ConvTranspose2d(ngf*4, ngf*2, 4, 2, 1, bias=False),\n",
    "            nn.BatchNorm2d(ngf * 2),\n",
    "            nn.ReLU(True),\n",
    "\n",
    "            nn.ConvTranspose2d(ngf*2, ngf, 4, 2, 1, bias=False),\n",
    "            nn.BatchNorm2d(ngf),\n",
    "            nn.ReLU(True),\n",
    "            nn.ConvTranspose2d(ngf, nc, 4, 2, 1, bias=False),\n",
    "            nn.Tanh()\n",
    "        )\n",
    "\n",
    "    def forward(self, x):\n",
    "        return self.main(x)"
   ],
   "id": "305ad813f674cfc5"
  },
  {
   "metadata": {},
   "cell_type": "code",
   "outputs": [],
   "execution_count": null,
   "source": [
    "class Discriminator(nn.Module):\n",
    "    def __init__(self):\n",
    "        super().__init__()\n",
    "        self.main = nn.Sequential(\n",
    "            nn.Conv2d(nc, ndf, 4, 2, 1, bias=False),\n",
    "            nn.LeakyReLU(0.2, inplace=True),\n",
    "\n",
    "            nn.Conv2d(ndf, ndf*2, 4, 2, 1, bias=False),\n",
    "            nn.BatchNorm2d(ndf * 2),\n",
    "            nn.LeakyReLU(0.2, inplace=True),\n",
    "\n",
    "            nn.Conv2d(ndf*2, ndf*4, 4, 2, 1, bias=False),\n",
    "            nn.BatchNorm2d(ndf * 4),\n",
    "            nn.LeakyReLU(0.2, inplace=True),\n",
    "\n",
    "            nn.Conv2d(ndf*4, ndf*8, 4, 2, 1, bias=False),\n",
    "            nn.BatchNorm2d(ndf * 8),\n",
    "            nn.LeakyReLU(0.2, inplace=True),\n",
    "\n",
    "            nn.Conv2d(ndf*8, 1, 4, 1, 0, bias=False),\n",
    "            nn.Sigmoid()\n",
    "        )\n",
    "\n",
    "    def forward(self, x):\n",
    "        return self.main(x)"
   ],
   "id": "62ac1b52d81cb184"
  },
  {
   "metadata": {},
   "cell_type": "code",
   "outputs": [],
   "execution_count": null,
   "source": [
    "def weights_init(m):\n",
    "    class_name = m.__class__.__name__\n",
    "    if class_name.find(\"Conv\") != -1:\n",
    "        m.weight.data.normal_(0.0, 0.02)\n",
    "    elif class_name.find(\"BatchNorm\") != -1:\n",
    "        m.weight.data.normal_(1.0, 0.02)\n",
    "        m.bias.data.fill_(0)"
   ],
   "id": "a512669bd4895833"
  },
  {
   "metadata": {},
   "cell_type": "code",
   "outputs": [],
   "execution_count": null,
   "source": [
    "device = torch.device(\"cuda\" if torch.cuda.is_available() else \"cpu\")\n",
    "print(f\"Using device: {device}\")"
   ],
   "id": "2e331fdfe03607c5"
  },
  {
   "metadata": {},
   "cell_type": "code",
   "outputs": [],
   "execution_count": null,
   "source": [
    "G = Generator().to(device)\n",
    "G.apply(weights_init)\n",
    "print(G)\n",
    "\n",
    "D = Discriminator().to(device)\n",
    "D.apply(weights_init)\n",
    "print(D)"
   ],
   "id": "5af1131ac63881ef"
  },
  {
   "metadata": {
    "ExecuteTime": {
     "end_time": "2025-05-12T13:08:57.059881Z",
     "start_time": "2025-05-12T13:08:56.787627Z"
    }
   },
   "cell_type": "code",
   "source": [
    "criterion = nn.BCELoss()\n",
    "\n",
    "d_optimizer = torch.optim.Adam(D.parameters(), lr=0.0002, betas=(0.5, 0.999))\n",
    "g_optimizer = torch.optim.Adam(G.parameters(), lr=0.0002, betas=(0.5, 0.999))"
   ],
   "id": "32701fa37b53f8f1",
   "outputs": [
    {
     "ename": "NameError",
     "evalue": "name 'nn' is not defined",
     "output_type": "error",
     "traceback": [
      "\u001B[31m---------------------------------------------------------------------------\u001B[39m",
      "\u001B[31mNameError\u001B[39m                                 Traceback (most recent call last)",
      "\u001B[36mCell\u001B[39m\u001B[36m \u001B[39m\u001B[32mIn[1]\u001B[39m\u001B[32m, line 1\u001B[39m\n\u001B[32m----> \u001B[39m\u001B[32m1\u001B[39m criterion = \u001B[43mnn\u001B[49m.BCELoss()\n\u001B[32m      3\u001B[39m d_optimizer = torch.optim.Adam(D.parameters(), lr=\u001B[32m0.0002\u001B[39m, betas=(\u001B[32m0.5\u001B[39m, \u001B[32m0.999\u001B[39m))\n\u001B[32m      4\u001B[39m g_optimizer = torch.optim.Adam(G.parameters(), lr=\u001B[32m0.0002\u001B[39m, betas=(\u001B[32m0.5\u001B[39m, \u001B[32m0.999\u001B[39m))\n",
      "\u001B[31mNameError\u001B[39m: name 'nn' is not defined"
     ]
    }
   ],
   "execution_count": 1
  },
  {
   "metadata": {},
   "cell_type": "code",
   "outputs": [],
   "execution_count": null,
   "source": [
    "G_losses = []\n",
    "D_losses = []\n",
    "\n",
    "fixed_noise = torch.randn(64, nz, 1, 1).to(device)"
   ],
   "id": "85dad0385de89dc8"
  },
  {
   "metadata": {},
   "cell_type": "code",
   "outputs": [],
   "execution_count": null,
   "source": [
    "NUM_EPOCHS = 50\n",
    "for epoch in range(NUM_EPOCHS):\n",
    "    d_loss = 0\n",
    "    g_loss = 0\n",
    "    for real_images, _ in dataloader:\n",
    "        real_images = real_images.to(device)\n",
    "\n",
    "        D.zero_grad()\n",
    "        b_size = real_images.size(0)\n",
    "\n",
    "        real_labels = torch.ones((b_size,)).to(device)\n",
    "\n",
    "        output = D(real_images).view(-1)\n",
    "        d_loss_real = criterion(output, real_labels)\n",
    "\n",
    "        z = torch.randn(b_size, nz, 1, 1).to(device)\n",
    "        fake_labels = torch.zeros((b_size,)).to(device)\n",
    "        fake_images = G(z)\n",
    "\n",
    "        output = D(fake_images.detach()).view(-1)\n",
    "        d_loss_fake = criterion(output, fake_labels)\n",
    "\n",
    "        d_loss = d_loss_real + d_loss_fake\n",
    "        d_loss.backward()\n",
    "        d_optimizer.step()\n",
    "\n",
    "        G.zero_grad()\n",
    "\n",
    "        output = D(fake_images).view(-1)\n",
    "        g_loss = criterion(output, real_labels)\n",
    "        g_loss.backward()\n",
    "        g_optimizer.step()\n",
    "\n",
    "        G_losses.append(g_loss.items())\n",
    "        D_losses.append(d_loss.items())\n",
    "\n",
    "    print(f\"[{epoch + 1}/{NUM_EPOCHS}], d_loss: {d_loss.items():.4f}, g_loss: {g_loss.items():.4f}\")\n",
    "\n",
    "    if (epoch + 1) % 5 == 0 or epoch == 0:\n",
    "        with torch.no_grad():\n",
    "            generated_images = G(fixed_noise).detach().cpu()\n",
    "        show_images(generated_images, title=f\"202401833 - Epoch: {epoch + 1}\")"
   ],
   "id": "7f1825d66164b8f7"
  },
  {
   "metadata": {},
   "cell_type": "code",
   "outputs": [],
   "execution_count": null,
   "source": [
    "plt.figure(figsize=(10, 5))\n",
    "plt.title(\"G and D Loss During Training\")\n",
    "plt.plot(G_losses, label=\"G\")\n",
    "plt.plot(D_losses, label=\"D\")\n",
    "plt.xlabel(\"Iterations\")\n",
    "plt.ylabel(\"Loss\")\n",
    "plt.legend()\n",
    "plt.show()"
   ],
   "id": "f5af86f43c204005"
  }
 ],
 "metadata": {
  "kernelspec": {
   "display_name": "Python 3",
   "language": "python",
   "name": "python3"
  },
  "language_info": {
   "codemirror_mode": {
    "name": "ipython",
    "version": 2
   },
   "file_extension": ".py",
   "mimetype": "text/x-python",
   "name": "python",
   "nbconvert_exporter": "python",
   "pygments_lexer": "ipython2",
   "version": "2.7.6"
  }
 },
 "nbformat": 4,
 "nbformat_minor": 5
}
